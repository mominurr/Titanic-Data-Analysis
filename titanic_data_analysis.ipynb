{
 "cells": [
  {
   "cell_type": "markdown",
   "metadata": {},
   "source": [
    "# Titanic Data Analysis\n",
    "\n",
    "**Author:** Mominur Rahman\n",
    "\n",
    "**Date:** 2021-05-11\n",
    "\n",
    "**Version:** 1.0\n",
    "\n",
    "**Dataset:** Titanic Dataset\n",
    "\n",
    "**Language:** Python\n",
    "\n",
    "**Portfolio:** https://mominur.dev/\n",
    "\n",
    "**Github Repository:** https://github.com/mominurr/Titanic-Data-Analysis\n",
    "\n",
    "**LinKedin Profile:** https://www.linkedin.com/in/mominur--rahman/\n",
    "\n",
    "**Purpose:** To perform data analysis on the Titanic dataset and identify the factors that contributed to the survival of passengers.\n",
    "\n",
    "**Project Overview:**\n",
    "\n",
    "The Titanic sank after hitting an iceberg on its maiden voyage in 1912. The ship had only 2224 passengers aboard and lost half of them. The Titanic dataset contains information about the passengers aboard the ship including their age, sex, class, fare, etc. The goal of this project is to perform data analysis on the Titanic dataset and identify the factors that contributed to the survival of passengers.\n"
   ]
  },
  {
   "cell_type": "markdown",
   "metadata": {},
   "source": [
    "### Import necessary libraries"
   ]
  },
  {
   "cell_type": "code",
   "execution_count": 1,
   "metadata": {},
   "outputs": [],
   "source": [
    "# Import necessary libraries\n",
    "import pandas as pd\n",
    "import numpy as np\n",
    "import matplotlib.pyplot as plt\n",
    "import seaborn as sns\n",
    "from scipy import stats"
   ]
  },
  {
   "cell_type": "markdown",
   "metadata": {},
   "source": [
    "### load data sets"
   ]
  },
  {
   "cell_type": "code",
   "execution_count": 225,
   "metadata": {},
   "outputs": [],
   "source": [
    "# load data sets\n",
    "df=pd.read_csv(\"data.csv\")"
   ]
  },
  {
   "cell_type": "code",
   "execution_count": 226,
   "metadata": {},
   "outputs": [
    {
     "name": "stdout",
     "output_type": "stream",
     "text": [
      "row and column :  (1309, 12)\n"
     ]
    }
   ],
   "source": [
    "print(\"row and column : \",df.shape)"
   ]
  },
  {
   "cell_type": "markdown",
   "metadata": {},
   "source": [
    "### Display the first 10 rows of the dataset to understand its structure"
   ]
  },
  {
   "cell_type": "code",
   "execution_count": 227,
   "metadata": {},
   "outputs": [
    {
     "data": {
      "text/html": [
       "<div>\n",
       "<style scoped>\n",
       "    .dataframe tbody tr th:only-of-type {\n",
       "        vertical-align: middle;\n",
       "    }\n",
       "\n",
       "    .dataframe tbody tr th {\n",
       "        vertical-align: top;\n",
       "    }\n",
       "\n",
       "    .dataframe thead th {\n",
       "        text-align: right;\n",
       "    }\n",
       "</style>\n",
       "<table border=\"1\" class=\"dataframe\">\n",
       "  <thead>\n",
       "    <tr style=\"text-align: right;\">\n",
       "      <th></th>\n",
       "      <th>PassengerId</th>\n",
       "      <th>Survived</th>\n",
       "      <th>Pclass</th>\n",
       "      <th>Name</th>\n",
       "      <th>Sex</th>\n",
       "      <th>Age</th>\n",
       "      <th>SibSp</th>\n",
       "      <th>Parch</th>\n",
       "      <th>Ticket</th>\n",
       "      <th>Fare</th>\n",
       "      <th>Cabin</th>\n",
       "      <th>Embarked</th>\n",
       "    </tr>\n",
       "  </thead>\n",
       "  <tbody>\n",
       "    <tr>\n",
       "      <th>0</th>\n",
       "      <td>1</td>\n",
       "      <td>0</td>\n",
       "      <td>3</td>\n",
       "      <td>Braund, Mr. Owen Harris</td>\n",
       "      <td>male</td>\n",
       "      <td>22.0</td>\n",
       "      <td>1</td>\n",
       "      <td>0</td>\n",
       "      <td>A/5 21171</td>\n",
       "      <td>7.2500</td>\n",
       "      <td>NaN</td>\n",
       "      <td>S</td>\n",
       "    </tr>\n",
       "    <tr>\n",
       "      <th>1</th>\n",
       "      <td>2</td>\n",
       "      <td>1</td>\n",
       "      <td>1</td>\n",
       "      <td>Cumings, Mrs. John Bradley (Florence Briggs Th...</td>\n",
       "      <td>female</td>\n",
       "      <td>38.0</td>\n",
       "      <td>1</td>\n",
       "      <td>0</td>\n",
       "      <td>PC 17599</td>\n",
       "      <td>71.2833</td>\n",
       "      <td>C85</td>\n",
       "      <td>C</td>\n",
       "    </tr>\n",
       "    <tr>\n",
       "      <th>2</th>\n",
       "      <td>3</td>\n",
       "      <td>1</td>\n",
       "      <td>3</td>\n",
       "      <td>Heikkinen, Miss. Laina</td>\n",
       "      <td>female</td>\n",
       "      <td>26.0</td>\n",
       "      <td>0</td>\n",
       "      <td>0</td>\n",
       "      <td>STON/O2. 3101282</td>\n",
       "      <td>7.9250</td>\n",
       "      <td>NaN</td>\n",
       "      <td>S</td>\n",
       "    </tr>\n",
       "    <tr>\n",
       "      <th>3</th>\n",
       "      <td>4</td>\n",
       "      <td>1</td>\n",
       "      <td>1</td>\n",
       "      <td>Futrelle, Mrs. Jacques Heath (Lily May Peel)</td>\n",
       "      <td>female</td>\n",
       "      <td>35.0</td>\n",
       "      <td>1</td>\n",
       "      <td>0</td>\n",
       "      <td>113803</td>\n",
       "      <td>53.1000</td>\n",
       "      <td>C123</td>\n",
       "      <td>S</td>\n",
       "    </tr>\n",
       "    <tr>\n",
       "      <th>4</th>\n",
       "      <td>5</td>\n",
       "      <td>0</td>\n",
       "      <td>3</td>\n",
       "      <td>Allen, Mr. William Henry</td>\n",
       "      <td>male</td>\n",
       "      <td>35.0</td>\n",
       "      <td>0</td>\n",
       "      <td>0</td>\n",
       "      <td>373450</td>\n",
       "      <td>8.0500</td>\n",
       "      <td>NaN</td>\n",
       "      <td>S</td>\n",
       "    </tr>\n",
       "    <tr>\n",
       "      <th>5</th>\n",
       "      <td>6</td>\n",
       "      <td>0</td>\n",
       "      <td>3</td>\n",
       "      <td>Moran, Mr. James</td>\n",
       "      <td>male</td>\n",
       "      <td>NaN</td>\n",
       "      <td>0</td>\n",
       "      <td>0</td>\n",
       "      <td>330877</td>\n",
       "      <td>8.4583</td>\n",
       "      <td>NaN</td>\n",
       "      <td>Q</td>\n",
       "    </tr>\n",
       "    <tr>\n",
       "      <th>6</th>\n",
       "      <td>7</td>\n",
       "      <td>0</td>\n",
       "      <td>1</td>\n",
       "      <td>McCarthy, Mr. Timothy J</td>\n",
       "      <td>male</td>\n",
       "      <td>54.0</td>\n",
       "      <td>0</td>\n",
       "      <td>0</td>\n",
       "      <td>17463</td>\n",
       "      <td>51.8625</td>\n",
       "      <td>E46</td>\n",
       "      <td>S</td>\n",
       "    </tr>\n",
       "    <tr>\n",
       "      <th>7</th>\n",
       "      <td>8</td>\n",
       "      <td>0</td>\n",
       "      <td>3</td>\n",
       "      <td>Palsson, Master. Gosta Leonard</td>\n",
       "      <td>male</td>\n",
       "      <td>2.0</td>\n",
       "      <td>3</td>\n",
       "      <td>1</td>\n",
       "      <td>349909</td>\n",
       "      <td>21.0750</td>\n",
       "      <td>NaN</td>\n",
       "      <td>S</td>\n",
       "    </tr>\n",
       "    <tr>\n",
       "      <th>8</th>\n",
       "      <td>9</td>\n",
       "      <td>1</td>\n",
       "      <td>3</td>\n",
       "      <td>Johnson, Mrs. Oscar W (Elisabeth Vilhelmina Berg)</td>\n",
       "      <td>female</td>\n",
       "      <td>27.0</td>\n",
       "      <td>0</td>\n",
       "      <td>2</td>\n",
       "      <td>347742</td>\n",
       "      <td>11.1333</td>\n",
       "      <td>NaN</td>\n",
       "      <td>S</td>\n",
       "    </tr>\n",
       "    <tr>\n",
       "      <th>9</th>\n",
       "      <td>10</td>\n",
       "      <td>1</td>\n",
       "      <td>2</td>\n",
       "      <td>Nasser, Mrs. Nicholas (Adele Achem)</td>\n",
       "      <td>female</td>\n",
       "      <td>14.0</td>\n",
       "      <td>1</td>\n",
       "      <td>0</td>\n",
       "      <td>237736</td>\n",
       "      <td>30.0708</td>\n",
       "      <td>NaN</td>\n",
       "      <td>C</td>\n",
       "    </tr>\n",
       "  </tbody>\n",
       "</table>\n",
       "</div>"
      ],
      "text/plain": [
       "   PassengerId  Survived  Pclass  \\\n",
       "0            1         0       3   \n",
       "1            2         1       1   \n",
       "2            3         1       3   \n",
       "3            4         1       1   \n",
       "4            5         0       3   \n",
       "5            6         0       3   \n",
       "6            7         0       1   \n",
       "7            8         0       3   \n",
       "8            9         1       3   \n",
       "9           10         1       2   \n",
       "\n",
       "                                                Name     Sex   Age  SibSp  \\\n",
       "0                            Braund, Mr. Owen Harris    male  22.0      1   \n",
       "1  Cumings, Mrs. John Bradley (Florence Briggs Th...  female  38.0      1   \n",
       "2                             Heikkinen, Miss. Laina  female  26.0      0   \n",
       "3       Futrelle, Mrs. Jacques Heath (Lily May Peel)  female  35.0      1   \n",
       "4                           Allen, Mr. William Henry    male  35.0      0   \n",
       "5                                   Moran, Mr. James    male   NaN      0   \n",
       "6                            McCarthy, Mr. Timothy J    male  54.0      0   \n",
       "7                     Palsson, Master. Gosta Leonard    male   2.0      3   \n",
       "8  Johnson, Mrs. Oscar W (Elisabeth Vilhelmina Berg)  female  27.0      0   \n",
       "9                Nasser, Mrs. Nicholas (Adele Achem)  female  14.0      1   \n",
       "\n",
       "   Parch            Ticket     Fare Cabin Embarked  \n",
       "0      0         A/5 21171   7.2500   NaN        S  \n",
       "1      0          PC 17599  71.2833   C85        C  \n",
       "2      0  STON/O2. 3101282   7.9250   NaN        S  \n",
       "3      0            113803  53.1000  C123        S  \n",
       "4      0            373450   8.0500   NaN        S  \n",
       "5      0            330877   8.4583   NaN        Q  \n",
       "6      0             17463  51.8625   E46        S  \n",
       "7      1            349909  21.0750   NaN        S  \n",
       "8      2            347742  11.1333   NaN        S  \n",
       "9      0            237736  30.0708   NaN        C  "
      ]
     },
     "execution_count": 227,
     "metadata": {},
     "output_type": "execute_result"
    }
   ],
   "source": [
    "# Display the first 10 rows of the dataset to understand its structure\n",
    "df.head(10)"
   ]
  },
  {
   "cell_type": "markdown",
   "metadata": {},
   "source": [
    "### Titanic Dataset - Data Header Definitions\n",
    "\n",
    "This section explains what each column in the Titanic dataset represents:\n",
    "\n",
    "| **Column Name**   | **Description**                                                                 | **Key**                                               |\n",
    "|-------------------|---------------------------------------------------------------------------------|-------------------------------------------------------|\n",
    "| **PassengerId**    | A unique identifier assigned to each passenger.                                | -                                                     |\n",
    "| **Survived**       | Indicates whether the passenger survived or not.                               | 0 = No, 1 = Yes                                       |\n",
    "| **Pclass**         | Passenger's ticket class, a proxy for socio-economic status (SES).              | 1 = 1st (Upper), 2 = 2nd (Middle), 3 = 3rd (Lower)    |\n",
    "| **Name**           | Full name of the passenger.                                                    | -                                                     |\n",
    "| **Sex**            | Gender of the passenger.                                                       | Male, Female                                          |\n",
    "| **Age**            | Age of the passenger in years. Fractional if less than 1. Estimated ages appear as xx.5. | -                                                     |\n",
    "| **SibSp**          | Number of siblings or spouses aboard the Titanic.                              | Sibling = brother, sister, stepbrother, stepsister. Spouse = husband, wife (excluding fiancés and mistresses) |\n",
    "| **Parch**          | Number of parents or children aboard the Titanic.                              | Parent = mother, father. Child = son, daughter, stepson, stepdaughter. |\n",
    "| **Ticket**         | The ticket number assigned to the passenger.                                   | -                                                     |\n",
    "| **Fare**           | The fare paid by the passenger for their ticket.                               | -                                                     |\n",
    "| **Cabin**          | The cabin number assigned to the passenger.              | -                                                     |\n",
    "| **Embarked**       | The port where passengers boarded the Titanic.                              | C = Cherbourg, Q = Queenstown, S = Southampton        |\n",
    "\n",
    "\n",
    "#### Additional Notes:\n",
    "- **Pclass** acts as a socio-economic status (SES) indicator: \n",
    "  - 1st = Upper class (wealthy)\n",
    "  - 2nd = Middle class\n",
    "  - 3rd = Lower class (working class)\n",
    "  \n",
    "- **SibSp** describes the family structure:  \n",
    "  - Sibling includes brothers, sisters, step-siblings.\n",
    "  - Spouse includes husbands and wives (but not fiancés or mistresses).\n",
    "\n",
    "- **Parch** provides insight into family groups:\n",
    "  - Parent includes mothers and fathers.\n",
    "  - Child includes daughters, sons, stepchildren.\n",
    "\n",
    "Some passengers, particularly children, may have traveled with a nanny or alone, which results in **Parch = 0** for them.\n"
   ]
  },
  {
   "cell_type": "markdown",
   "metadata": {},
   "source": [
    "### Data Cleaning"
   ]
  },
  {
   "cell_type": "markdown",
   "metadata": {},
   "source": [
    "#### checking the data types of the columns in the dataset using the `info()` method."
   ]
  },
  {
   "cell_type": "code",
   "execution_count": 228,
   "metadata": {},
   "outputs": [
    {
     "name": "stdout",
     "output_type": "stream",
     "text": [
      "<class 'pandas.core.frame.DataFrame'>\n",
      "RangeIndex: 1309 entries, 0 to 1308\n",
      "Data columns (total 12 columns):\n",
      " #   Column       Non-Null Count  Dtype  \n",
      "---  ------       --------------  -----  \n",
      " 0   PassengerId  1309 non-null   int64  \n",
      " 1   Survived     1309 non-null   int64  \n",
      " 2   Pclass       1309 non-null   int64  \n",
      " 3   Name         1309 non-null   object \n",
      " 4   Sex          1309 non-null   object \n",
      " 5   Age          1046 non-null   float64\n",
      " 6   SibSp        1309 non-null   int64  \n",
      " 7   Parch        1309 non-null   int64  \n",
      " 8   Ticket       1309 non-null   object \n",
      " 9   Fare         1308 non-null   float64\n",
      " 10  Cabin        295 non-null    object \n",
      " 11  Embarked     1307 non-null   object \n",
      "dtypes: float64(2), int64(5), object(5)\n",
      "memory usage: 122.8+ KB\n"
     ]
    }
   ],
   "source": [
    "# checking the data types of the columns\n",
    "df.info()"
   ]
  },
  {
   "cell_type": "markdown",
   "metadata": {},
   "source": [
    "#### Converting all object type data to string type data"
   ]
  },
  {
   "cell_type": "code",
   "execution_count": 229,
   "metadata": {},
   "outputs": [
    {
     "data": {
      "text/plain": [
       "PassengerId             int64\n",
       "Survived                int64\n",
       "Pclass                  int64\n",
       "Name           string[python]\n",
       "Sex            string[python]\n",
       "Age                   float64\n",
       "SibSp                   int64\n",
       "Parch                   int64\n",
       "Ticket         string[python]\n",
       "Fare                  float64\n",
       "Cabin          string[python]\n",
       "Embarked       string[python]\n",
       "dtype: object"
      ]
     },
     "execution_count": 229,
     "metadata": {},
     "output_type": "execute_result"
    }
   ],
   "source": [
    "# Converting all object type data to string type data\n",
    "df = df.astype({col: 'string' for col in df.select_dtypes(include='object').columns})\n",
    "\n",
    "# Checking the data types again to ensure the conversion\n",
    "df.dtypes\n"
   ]
  },
  {
   "cell_type": "markdown",
   "metadata": {},
   "source": [
    "#### Checking for missing values in each column"
   ]
  },
  {
   "cell_type": "code",
   "execution_count": 230,
   "metadata": {},
   "outputs": [
    {
     "data": {
      "text/plain": [
       "PassengerId       0\n",
       "Survived          0\n",
       "Pclass            0\n",
       "Name              0\n",
       "Sex               0\n",
       "Age             263\n",
       "SibSp             0\n",
       "Parch             0\n",
       "Ticket            0\n",
       "Fare              1\n",
       "Cabin          1014\n",
       "Embarked          2\n",
       "dtype: int64"
      ]
     },
     "execution_count": 230,
     "metadata": {},
     "output_type": "execute_result"
    }
   ],
   "source": [
    "# Checking for missing values in each column\n",
    "# This helps us to identify which columns need attention for missing data.\n",
    "\n",
    "df.isnull().sum()"
   ]
  },
  {
   "cell_type": "markdown",
   "metadata": {},
   "source": [
    "#### **Drop the unnecessary columns** - PassengerId, Ticket, Cabin"
   ]
  },
  {
   "cell_type": "code",
   "execution_count": 231,
   "metadata": {},
   "outputs": [
    {
     "data": {
      "text/html": [
       "<div>\n",
       "<style scoped>\n",
       "    .dataframe tbody tr th:only-of-type {\n",
       "        vertical-align: middle;\n",
       "    }\n",
       "\n",
       "    .dataframe tbody tr th {\n",
       "        vertical-align: top;\n",
       "    }\n",
       "\n",
       "    .dataframe thead th {\n",
       "        text-align: right;\n",
       "    }\n",
       "</style>\n",
       "<table border=\"1\" class=\"dataframe\">\n",
       "  <thead>\n",
       "    <tr style=\"text-align: right;\">\n",
       "      <th></th>\n",
       "      <th>Survived</th>\n",
       "      <th>Pclass</th>\n",
       "      <th>Name</th>\n",
       "      <th>Sex</th>\n",
       "      <th>Age</th>\n",
       "      <th>SibSp</th>\n",
       "      <th>Parch</th>\n",
       "      <th>Fare</th>\n",
       "      <th>Embarked</th>\n",
       "    </tr>\n",
       "  </thead>\n",
       "  <tbody>\n",
       "    <tr>\n",
       "      <th>0</th>\n",
       "      <td>0</td>\n",
       "      <td>3</td>\n",
       "      <td>Braund, Mr. Owen Harris</td>\n",
       "      <td>male</td>\n",
       "      <td>22.0</td>\n",
       "      <td>1</td>\n",
       "      <td>0</td>\n",
       "      <td>7.2500</td>\n",
       "      <td>S</td>\n",
       "    </tr>\n",
       "    <tr>\n",
       "      <th>1</th>\n",
       "      <td>1</td>\n",
       "      <td>1</td>\n",
       "      <td>Cumings, Mrs. John Bradley (Florence Briggs Th...</td>\n",
       "      <td>female</td>\n",
       "      <td>38.0</td>\n",
       "      <td>1</td>\n",
       "      <td>0</td>\n",
       "      <td>71.2833</td>\n",
       "      <td>C</td>\n",
       "    </tr>\n",
       "    <tr>\n",
       "      <th>2</th>\n",
       "      <td>1</td>\n",
       "      <td>3</td>\n",
       "      <td>Heikkinen, Miss. Laina</td>\n",
       "      <td>female</td>\n",
       "      <td>26.0</td>\n",
       "      <td>0</td>\n",
       "      <td>0</td>\n",
       "      <td>7.9250</td>\n",
       "      <td>S</td>\n",
       "    </tr>\n",
       "    <tr>\n",
       "      <th>3</th>\n",
       "      <td>1</td>\n",
       "      <td>1</td>\n",
       "      <td>Futrelle, Mrs. Jacques Heath (Lily May Peel)</td>\n",
       "      <td>female</td>\n",
       "      <td>35.0</td>\n",
       "      <td>1</td>\n",
       "      <td>0</td>\n",
       "      <td>53.1000</td>\n",
       "      <td>S</td>\n",
       "    </tr>\n",
       "    <tr>\n",
       "      <th>4</th>\n",
       "      <td>0</td>\n",
       "      <td>3</td>\n",
       "      <td>Allen, Mr. William Henry</td>\n",
       "      <td>male</td>\n",
       "      <td>35.0</td>\n",
       "      <td>0</td>\n",
       "      <td>0</td>\n",
       "      <td>8.0500</td>\n",
       "      <td>S</td>\n",
       "    </tr>\n",
       "  </tbody>\n",
       "</table>\n",
       "</div>"
      ],
      "text/plain": [
       "   Survived  Pclass                                               Name  \\\n",
       "0         0       3                            Braund, Mr. Owen Harris   \n",
       "1         1       1  Cumings, Mrs. John Bradley (Florence Briggs Th...   \n",
       "2         1       3                             Heikkinen, Miss. Laina   \n",
       "3         1       1       Futrelle, Mrs. Jacques Heath (Lily May Peel)   \n",
       "4         0       3                           Allen, Mr. William Henry   \n",
       "\n",
       "      Sex   Age  SibSp  Parch     Fare Embarked  \n",
       "0    male  22.0      1      0   7.2500        S  \n",
       "1  female  38.0      1      0  71.2833        C  \n",
       "2  female  26.0      0      0   7.9250        S  \n",
       "3  female  35.0      1      0  53.1000        S  \n",
       "4    male  35.0      0      0   8.0500        S  "
      ]
     },
     "execution_count": 231,
     "metadata": {},
     "output_type": "execute_result"
    }
   ],
   "source": [
    "# drop the unnecessary columns - PassengerId, Ticket, Cabin\n",
    "df.drop(['PassengerId','Ticket', 'Cabin'], axis=1, inplace=True)\n",
    "\n",
    "# after removing columns the datasets\n",
    "df.head(5)"
   ]
  },
  {
   "cell_type": "markdown",
   "metadata": {},
   "source": [
    "#### Handeling missing values"
   ]
  },
  {
   "cell_type": "code",
   "execution_count": 232,
   "metadata": {},
   "outputs": [
    {
     "name": "stdout",
     "output_type": "stream",
     "text": [
      "after removing duplicates rows and missing values, row and column number is :  (1306, 9)\n",
      "after handeling missing values checking missing values in each column:\n",
      "\n"
     ]
    },
    {
     "data": {
      "text/plain": [
       "Survived    0\n",
       "Pclass      0\n",
       "Name        0\n",
       "Sex         0\n",
       "Age         0\n",
       "SibSp       0\n",
       "Parch       0\n",
       "Fare        0\n",
       "Embarked    0\n",
       "dtype: int64"
      ]
     },
     "execution_count": 232,
     "metadata": {},
     "output_type": "execute_result"
    }
   ],
   "source": [
    "# Handle missing values in 'Age' by filling them with the median value.\n",
    "# Median is chosen as it is less affected by outliers compared to the mean.\n",
    "df['Age'] = df['Age'].fillna(df['Age'].median())\n",
    "\n",
    "# Handle missing values in 'Embarked' by dropping rows where the 'Embarked' column is missing.\n",
    "# 'Embarked' has few missing values, so dropping these rows will not heavily affect the analysis.\n",
    "df.dropna(subset=['Embarked'], inplace=True)\n",
    "\n",
    "# Handle missing values in \"Fare\" by droping rows where the \"Fare\" column is missing.\n",
    "# \"Fare\" has few missing values, so dropping these rows will not heavily affect the analysis.\n",
    "df.dropna(subset=[\"Fare\"],inplace=True)\n",
    "\n",
    "\n",
    "# remove duplicates values\n",
    "df.drop_duplicates(inplace=True)\n",
    "\n",
    "# after handeling missing values checking row and column number\n",
    "print(\"after removing duplicates rows and missing values, row and column number is : \",df.shape)\n",
    "\n",
    "# after handeling missing values checking missing values in each column\n",
    "print(\"after handeling missing values checking missing values in each column:\\n\")\n",
    "df.isnull().sum()\n"
   ]
  },
  {
   "cell_type": "markdown",
   "metadata": {},
   "source": [
    "#### Creating a new column for the passenger's age group (\"Child,\" \"Adult,\" \"Senior\") based on the 'Age' column\n",
    "\n",
    "- **Age Classification Criteria:**\n",
    "- **Child**: Age < 18\n",
    "- **Adult**: Age >= 18 and Age < 65\n",
    "- **Senior**: Age >= 65"
   ]
  },
  {
   "cell_type": "code",
   "execution_count": 233,
   "metadata": {},
   "outputs": [
    {
     "data": {
      "text/html": [
       "<div>\n",
       "<style scoped>\n",
       "    .dataframe tbody tr th:only-of-type {\n",
       "        vertical-align: middle;\n",
       "    }\n",
       "\n",
       "    .dataframe tbody tr th {\n",
       "        vertical-align: top;\n",
       "    }\n",
       "\n",
       "    .dataframe thead th {\n",
       "        text-align: right;\n",
       "    }\n",
       "</style>\n",
       "<table border=\"1\" class=\"dataframe\">\n",
       "  <thead>\n",
       "    <tr style=\"text-align: right;\">\n",
       "      <th></th>\n",
       "      <th>Survived</th>\n",
       "      <th>Pclass</th>\n",
       "      <th>Name</th>\n",
       "      <th>Sex</th>\n",
       "      <th>Age</th>\n",
       "      <th>SibSp</th>\n",
       "      <th>Parch</th>\n",
       "      <th>Fare</th>\n",
       "      <th>Embarked</th>\n",
       "      <th>AgeGroup</th>\n",
       "    </tr>\n",
       "  </thead>\n",
       "  <tbody>\n",
       "    <tr>\n",
       "      <th>0</th>\n",
       "      <td>0</td>\n",
       "      <td>3</td>\n",
       "      <td>Braund, Mr. Owen Harris</td>\n",
       "      <td>male</td>\n",
       "      <td>22.0</td>\n",
       "      <td>1</td>\n",
       "      <td>0</td>\n",
       "      <td>7.2500</td>\n",
       "      <td>S</td>\n",
       "      <td>Adult</td>\n",
       "    </tr>\n",
       "    <tr>\n",
       "      <th>1</th>\n",
       "      <td>1</td>\n",
       "      <td>1</td>\n",
       "      <td>Cumings, Mrs. John Bradley (Florence Briggs Th...</td>\n",
       "      <td>female</td>\n",
       "      <td>38.0</td>\n",
       "      <td>1</td>\n",
       "      <td>0</td>\n",
       "      <td>71.2833</td>\n",
       "      <td>C</td>\n",
       "      <td>Adult</td>\n",
       "    </tr>\n",
       "    <tr>\n",
       "      <th>2</th>\n",
       "      <td>1</td>\n",
       "      <td>3</td>\n",
       "      <td>Heikkinen, Miss. Laina</td>\n",
       "      <td>female</td>\n",
       "      <td>26.0</td>\n",
       "      <td>0</td>\n",
       "      <td>0</td>\n",
       "      <td>7.9250</td>\n",
       "      <td>S</td>\n",
       "      <td>Adult</td>\n",
       "    </tr>\n",
       "    <tr>\n",
       "      <th>3</th>\n",
       "      <td>1</td>\n",
       "      <td>1</td>\n",
       "      <td>Futrelle, Mrs. Jacques Heath (Lily May Peel)</td>\n",
       "      <td>female</td>\n",
       "      <td>35.0</td>\n",
       "      <td>1</td>\n",
       "      <td>0</td>\n",
       "      <td>53.1000</td>\n",
       "      <td>S</td>\n",
       "      <td>Adult</td>\n",
       "    </tr>\n",
       "    <tr>\n",
       "      <th>4</th>\n",
       "      <td>0</td>\n",
       "      <td>3</td>\n",
       "      <td>Allen, Mr. William Henry</td>\n",
       "      <td>male</td>\n",
       "      <td>35.0</td>\n",
       "      <td>0</td>\n",
       "      <td>0</td>\n",
       "      <td>8.0500</td>\n",
       "      <td>S</td>\n",
       "      <td>Adult</td>\n",
       "    </tr>\n",
       "    <tr>\n",
       "      <th>5</th>\n",
       "      <td>0</td>\n",
       "      <td>3</td>\n",
       "      <td>Moran, Mr. James</td>\n",
       "      <td>male</td>\n",
       "      <td>28.0</td>\n",
       "      <td>0</td>\n",
       "      <td>0</td>\n",
       "      <td>8.4583</td>\n",
       "      <td>Q</td>\n",
       "      <td>Adult</td>\n",
       "    </tr>\n",
       "    <tr>\n",
       "      <th>6</th>\n",
       "      <td>0</td>\n",
       "      <td>1</td>\n",
       "      <td>McCarthy, Mr. Timothy J</td>\n",
       "      <td>male</td>\n",
       "      <td>54.0</td>\n",
       "      <td>0</td>\n",
       "      <td>0</td>\n",
       "      <td>51.8625</td>\n",
       "      <td>S</td>\n",
       "      <td>Adult</td>\n",
       "    </tr>\n",
       "    <tr>\n",
       "      <th>7</th>\n",
       "      <td>0</td>\n",
       "      <td>3</td>\n",
       "      <td>Palsson, Master. Gosta Leonard</td>\n",
       "      <td>male</td>\n",
       "      <td>2.0</td>\n",
       "      <td>3</td>\n",
       "      <td>1</td>\n",
       "      <td>21.0750</td>\n",
       "      <td>S</td>\n",
       "      <td>Child</td>\n",
       "    </tr>\n",
       "    <tr>\n",
       "      <th>8</th>\n",
       "      <td>1</td>\n",
       "      <td>3</td>\n",
       "      <td>Johnson, Mrs. Oscar W (Elisabeth Vilhelmina Berg)</td>\n",
       "      <td>female</td>\n",
       "      <td>27.0</td>\n",
       "      <td>0</td>\n",
       "      <td>2</td>\n",
       "      <td>11.1333</td>\n",
       "      <td>S</td>\n",
       "      <td>Adult</td>\n",
       "    </tr>\n",
       "    <tr>\n",
       "      <th>9</th>\n",
       "      <td>1</td>\n",
       "      <td>2</td>\n",
       "      <td>Nasser, Mrs. Nicholas (Adele Achem)</td>\n",
       "      <td>female</td>\n",
       "      <td>14.0</td>\n",
       "      <td>1</td>\n",
       "      <td>0</td>\n",
       "      <td>30.0708</td>\n",
       "      <td>C</td>\n",
       "      <td>Child</td>\n",
       "    </tr>\n",
       "  </tbody>\n",
       "</table>\n",
       "</div>"
      ],
      "text/plain": [
       "   Survived  Pclass                                               Name  \\\n",
       "0         0       3                            Braund, Mr. Owen Harris   \n",
       "1         1       1  Cumings, Mrs. John Bradley (Florence Briggs Th...   \n",
       "2         1       3                             Heikkinen, Miss. Laina   \n",
       "3         1       1       Futrelle, Mrs. Jacques Heath (Lily May Peel)   \n",
       "4         0       3                           Allen, Mr. William Henry   \n",
       "5         0       3                                   Moran, Mr. James   \n",
       "6         0       1                            McCarthy, Mr. Timothy J   \n",
       "7         0       3                     Palsson, Master. Gosta Leonard   \n",
       "8         1       3  Johnson, Mrs. Oscar W (Elisabeth Vilhelmina Berg)   \n",
       "9         1       2                Nasser, Mrs. Nicholas (Adele Achem)   \n",
       "\n",
       "      Sex   Age  SibSp  Parch     Fare Embarked AgeGroup  \n",
       "0    male  22.0      1      0   7.2500        S    Adult  \n",
       "1  female  38.0      1      0  71.2833        C    Adult  \n",
       "2  female  26.0      0      0   7.9250        S    Adult  \n",
       "3  female  35.0      1      0  53.1000        S    Adult  \n",
       "4    male  35.0      0      0   8.0500        S    Adult  \n",
       "5    male  28.0      0      0   8.4583        Q    Adult  \n",
       "6    male  54.0      0      0  51.8625        S    Adult  \n",
       "7    male   2.0      3      1  21.0750        S    Child  \n",
       "8  female  27.0      0      2  11.1333        S    Adult  \n",
       "9  female  14.0      1      0  30.0708        C    Child  "
      ]
     },
     "execution_count": 233,
     "metadata": {},
     "output_type": "execute_result"
    }
   ],
   "source": [
    "# Create a new column for the passenger's age group (\"Child,\" \"Adult,\" \"Senior\") based on the 'Age' column\n",
    "# Define a function to classify age groups\n",
    "def age_group(age):\n",
    "    if age < 18:\n",
    "        return 'Child'\n",
    "    elif age>=18 and age<65:\n",
    "        return 'Adult'\n",
    "    else:\n",
    "        return 'Senior'\n",
    "\n",
    "# Create a new column for age group\n",
    "df['AgeGroup'] = df['Age'].apply(age_group)\n",
    "\n",
    "\n",
    "# Display the DataFrame\n",
    "df.head(10)"
   ]
  },
  {
   "cell_type": "markdown",
   "metadata": {},
   "source": [
    "### Data Exploratory Data Analysis"
   ]
  },
  {
   "cell_type": "markdown",
   "metadata": {},
   "source": [
    "#### Providing a Summary of the Dataset"
   ]
  },
  {
   "cell_type": "code",
   "execution_count": 234,
   "metadata": {},
   "outputs": [
    {
     "data": {
      "text/html": [
       "<div>\n",
       "<style scoped>\n",
       "    .dataframe tbody tr th:only-of-type {\n",
       "        vertical-align: middle;\n",
       "    }\n",
       "\n",
       "    .dataframe tbody tr th {\n",
       "        vertical-align: top;\n",
       "    }\n",
       "\n",
       "    .dataframe thead th {\n",
       "        text-align: right;\n",
       "    }\n",
       "</style>\n",
       "<table border=\"1\" class=\"dataframe\">\n",
       "  <thead>\n",
       "    <tr style=\"text-align: right;\">\n",
       "      <th></th>\n",
       "      <th>Survived</th>\n",
       "      <th>Pclass</th>\n",
       "      <th>Age</th>\n",
       "      <th>SibSp</th>\n",
       "      <th>Parch</th>\n",
       "      <th>Fare</th>\n",
       "    </tr>\n",
       "  </thead>\n",
       "  <tbody>\n",
       "    <tr>\n",
       "      <th>count</th>\n",
       "      <td>1306.000000</td>\n",
       "      <td>1306.000000</td>\n",
       "      <td>1306.000000</td>\n",
       "      <td>1306.00000</td>\n",
       "      <td>1306.000000</td>\n",
       "      <td>1306.000000</td>\n",
       "    </tr>\n",
       "    <tr>\n",
       "      <th>mean</th>\n",
       "      <td>0.376723</td>\n",
       "      <td>2.296325</td>\n",
       "      <td>29.448063</td>\n",
       "      <td>0.50000</td>\n",
       "      <td>0.385911</td>\n",
       "      <td>33.223956</td>\n",
       "    </tr>\n",
       "    <tr>\n",
       "      <th>std</th>\n",
       "      <td>0.484750</td>\n",
       "      <td>0.837037</td>\n",
       "      <td>12.857848</td>\n",
       "      <td>1.04258</td>\n",
       "      <td>0.866357</td>\n",
       "      <td>51.765986</td>\n",
       "    </tr>\n",
       "    <tr>\n",
       "      <th>min</th>\n",
       "      <td>0.000000</td>\n",
       "      <td>1.000000</td>\n",
       "      <td>0.170000</td>\n",
       "      <td>0.00000</td>\n",
       "      <td>0.000000</td>\n",
       "      <td>0.000000</td>\n",
       "    </tr>\n",
       "    <tr>\n",
       "      <th>25%</th>\n",
       "      <td>0.000000</td>\n",
       "      <td>2.000000</td>\n",
       "      <td>22.000000</td>\n",
       "      <td>0.00000</td>\n",
       "      <td>0.000000</td>\n",
       "      <td>7.895800</td>\n",
       "    </tr>\n",
       "    <tr>\n",
       "      <th>50%</th>\n",
       "      <td>0.000000</td>\n",
       "      <td>3.000000</td>\n",
       "      <td>28.000000</td>\n",
       "      <td>0.00000</td>\n",
       "      <td>0.000000</td>\n",
       "      <td>14.454200</td>\n",
       "    </tr>\n",
       "    <tr>\n",
       "      <th>75%</th>\n",
       "      <td>1.000000</td>\n",
       "      <td>3.000000</td>\n",
       "      <td>35.000000</td>\n",
       "      <td>1.00000</td>\n",
       "      <td>0.000000</td>\n",
       "      <td>31.275000</td>\n",
       "    </tr>\n",
       "    <tr>\n",
       "      <th>max</th>\n",
       "      <td>1.000000</td>\n",
       "      <td>3.000000</td>\n",
       "      <td>80.000000</td>\n",
       "      <td>8.00000</td>\n",
       "      <td>9.000000</td>\n",
       "      <td>512.329200</td>\n",
       "    </tr>\n",
       "  </tbody>\n",
       "</table>\n",
       "</div>"
      ],
      "text/plain": [
       "          Survived       Pclass          Age       SibSp        Parch  \\\n",
       "count  1306.000000  1306.000000  1306.000000  1306.00000  1306.000000   \n",
       "mean      0.376723     2.296325    29.448063     0.50000     0.385911   \n",
       "std       0.484750     0.837037    12.857848     1.04258     0.866357   \n",
       "min       0.000000     1.000000     0.170000     0.00000     0.000000   \n",
       "25%       0.000000     2.000000    22.000000     0.00000     0.000000   \n",
       "50%       0.000000     3.000000    28.000000     0.00000     0.000000   \n",
       "75%       1.000000     3.000000    35.000000     1.00000     0.000000   \n",
       "max       1.000000     3.000000    80.000000     8.00000     9.000000   \n",
       "\n",
       "              Fare  \n",
       "count  1306.000000  \n",
       "mean     33.223956  \n",
       "std      51.765986  \n",
       "min       0.000000  \n",
       "25%       7.895800  \n",
       "50%      14.454200  \n",
       "75%      31.275000  \n",
       "max     512.329200  "
      ]
     },
     "execution_count": 234,
     "metadata": {},
     "output_type": "execute_result"
    }
   ],
   "source": [
    "# Use descriptive statistics to summarize the dataset.\n",
    "df.describe()\n"
   ]
  },
  {
   "cell_type": "markdown",
   "metadata": {},
   "source": [
    "##### Interpretation:\n",
    "\n",
    "- **Survival Rate**: The mean survival rate is approximately 37.7%, indicating that about one-third of the passengers survived.\n",
    "- **Passenger Class**: The average passenger class is around 2.3, suggesting a mix of higher, middle and lower-class passengers.\n",
    "- **Age Distribution**: The average age of passengers is about 29.5 years, with a wide range from infants (0.17 years) to seniors (80 years).\n",
    "- **Family Size**: The average number of siblings/spouses (SibSp) is 0.50, indicating that many passengers traveled alone.\n",
    "- **Fare**: The mean fare is approximately 33.22, with a maximum fare of 512.33, highlighting the significant variability in ticket prices.\n",
    "\n",
    "This summary provides a quick overview of the dataset's characteristics, helping to understand the demographics and conditions of the passengers."
   ]
  },
  {
   "cell_type": "markdown",
   "metadata": {},
   "source": [
    "#### Visualize the Distribution of Passengers by Gender"
   ]
  },
  {
   "cell_type": "code",
   "execution_count": 235,
   "metadata": {},
   "outputs": [
    {
     "data": {
      "image/png": "[encoded data removed]",
      "text/plain": [
       "<Figure size 640x480 with 1 Axes>"
      ]
     },
     "metadata": {},
     "output_type": "display_data"
    }
   ],
   "source": [
    "# Bar plot to show the distribution of passengers based on gender.\n",
    "df[\"Sex\"].value_counts().plot(kind=\"bar\")\n",
    "plt.title('Gender Distribution of Passengers')\n",
    "plt.xlabel('Gender')\n",
    "plt.ylabel('Count')\n",
    "plt.show()\n"
   ]
  },
  {
   "cell_type": "markdown",
   "metadata": {},
   "source": [
    "\n",
    "**The visualization displays the distribution of passengers categorized by gender. Key observations include:**\n",
    "\n",
    "- **Gender Ratio**: The majority of passengers are male, with a significant but smaller proportion of female passengers.\n",
    "- **Overall Representation**: The male-to-female ratio indicates a male-dominated passenger list, reflecting social norms of the era.\n",
    "- **Implications for Survival**: Understanding the gender distribution is crucial for analyzing survival rates, as females typically exhibited higher survival rates.\n",
    "\n",
    "This visualization provides a straightforward overview of the gender demographics among the passengers, setting the stage for deeper analysis of survival outcomes.\n"
   ]
  },
  {
   "cell_type": "markdown",
   "metadata": {},
   "source": [
    "#### Creating a histogram for the age distribution"
   ]
  },
  {
   "cell_type": "code",
   "execution_count": 236,
   "metadata": {},
   "outputs": [
    {
     "data": {
      "image/png": "[encoded data removed]",
      "text/plain": [
       "<Figure size 640x480 with 1 Axes>"
      ]
     },
     "metadata": {},
     "output_type": "display_data"
    }
   ],
   "source": [
    "# Creating a histogram to show the age distribution of passengers.\n",
    "plt.hist(df['Age'], bins=20, edgecolor='black')\n",
    "plt.title('Age Distribution of Passengers')\n",
    "plt.xlabel('Age')\n",
    "plt.ylabel('Frequency')\n",
    "plt.show()\n"
   ]
  },
  {
   "cell_type": "markdown",
   "metadata": {},
   "source": [
    "**The histogram illustrates the age distribution of passengers on the voyage. Key observations include:**\n",
    "\n",
    "- **Age Range**: The histogram reveals a broad range of ages among passengers, from infants to seniors.\n",
    "- **Peaks in Distribution**: There are notable peaks in the distribution, particularly among young adults and children, indicating a significant presence of these age groups.\n",
    "- **Lower Representation of Seniors**: The number of senior passengers is relatively low, suggesting that younger demographics comprised the majority of the passenger list.\n",
    "\n",
    "This histogram provides a clear visual representation of the age demographics, highlighting the diverse age composition of the passengers."
   ]
  },
  {
   "cell_type": "markdown",
   "metadata": {},
   "source": [
    "#### Visualize the Survival Rate by Gender and Class"
   ]
  },
  {
   "cell_type": "code",
   "execution_count": 237,
   "metadata": {},
   "outputs": [
    {
     "data": {
      "image/png": "[encoded data removed]",
      "text/plain": [
       "<Figure size 1098x500 with 2 Axes>"
      ]
     },
     "metadata": {},
     "output_type": "display_data"
    }
   ],
   "source": [
    "# Create the catplot\n",
    "g = sns.catplot(x='Pclass', hue='Sex', col='Survived', data=df, kind='count', col_order=[0, 1])\n",
    "\n",
    "# Update the titles of the subplots\n",
    "g.axes[0][0].set_title('Survived = 0 (No)')\n",
    "g.axes[0][1].set_title('Survived = 1 (Yes)')\n",
    "\n",
    "# Set a super title for the entire plot\n",
    "plt.suptitle('Survival Rate by Gender and Class', y=1.05)\n",
    "\n",
    "# Show the plot\n",
    "plt.show()"
   ]
  },
  {
   "cell_type": "markdown",
   "metadata": {},
   "source": [
    "\n",
    "\n",
    "**The visualization depicts the survival rates of passengers based on gender and class. Key insights include:**\n",
    "\n",
    "- **Gender Disparity**: Female passengers consistently exhibit higher survival rates compared to male passengers across all classes.\n",
    "- **Class Influence**: First-class passengers have the highest survival rates overall. The survival rate in second class is notably lower than both first and third classes, contrary to initial observations.\n",
    "- **Nearly Equal Survival Rates**: The survival rates for male passengers in first and third classes are nearly equal, while female passengers in third class show a significant drop compared to those in first class.\n",
    "- **Males**: Survival rates are generally lower for males in all age groups.\n",
    "\n",
    "This visualization emphasizes the critical role of gender and class in determining survival outcomes during the voyage, highlighting the unique challenges faced by passengers in different classes.\n"
   ]
  },
  {
   "cell_type": "markdown",
   "metadata": {},
   "source": [
    "#### Visualize of passenger by age group and sex"
   ]
  },
  {
   "cell_type": "code",
   "execution_count": 238,
   "metadata": {},
   "outputs": [
    {
     "data": {
      "image/png": "[encoded data removed]",
      "text/plain": [
       "<Figure size 598x500 with 1 Axes>"
      ]
     },
     "metadata": {},
     "output_type": "display_data"
    }
   ],
   "source": [
    "# Create a count plot to show the distribution of passengers by age group and sex\n",
    "sns.catplot(x='AgeGroup', hue='Sex', data=df, kind='count')\n",
    "\n",
    "# Set the title of the plot\n",
    "plt.title('Distribution of Passengers by Age Group and Gender')\n",
    "\n",
    "# Show the plot\n",
    "plt.show()"
   ]
  },
  {
   "cell_type": "markdown",
   "metadata": {},
   "source": [
    "\n",
    "**The visualization illustrates the distribution of passengers categorized by age group and sex. Key observations include:**\n",
    "\n",
    "- **Age Group Distribution**: The majority of passengers fall within the adult age group, followed by children and then seniors.\n",
    "- **Gender Representation**: Both male and female passengers are present across all age groups, but the number of male passengers is generally higher, especially in the adult category.\n",
    "- **Child Representation**: A notable number of children, particularly females, indicates a significant presence of young passengers on board.\n",
    "##### Age Classification Criteria:\n",
    "- **Child**: Age < 18\n",
    "- **Adult**: Age >= 18 and Age < 65\n",
    "- **Senior**: Age >= 65\n",
    "\n",
    "This visualization effectively highlights the demographic makeup of the passenger list, revealing insights into the composition of gender and age during the journey.\n"
   ]
  },
  {
   "cell_type": "markdown",
   "metadata": {},
   "source": [
    "#### Visualize Survival Rate by Age Group and Gender"
   ]
  },
  {
   "cell_type": "code",
   "execution_count": 239,
   "metadata": {},
   "outputs": [
    {
     "data": {
      "image/png": "[encoded data removed]",
      "text/plain": [
       "<Figure size 1098x500 with 2 Axes>"
      ]
     },
     "metadata": {},
     "output_type": "display_data"
    }
   ],
   "source": [
    "# Create the catplot\n",
    "g = sns.catplot(x='AgeGroup', hue='Sex', col='Survived', data=df, kind='count', col_order=[0, 1])\n",
    "\n",
    "# Update the titles of the subplots\n",
    "g.axes[0][0].set_title('Survived = 0 (No)')\n",
    "g.axes[0][1].set_title('Survived = 1 (Yes)')\n",
    "\n",
    "# Set a super title for the entire plot\n",
    "plt.suptitle('Survival Rate by Age Group and Gender', y=1.05)\n",
    "\n",
    "# Show the plot\n",
    "plt.show()\n"
   ]
  },
  {
   "cell_type": "markdown",
   "metadata": {},
   "source": [
    "\n",
    "**The visualization displays the survival rates across different age groups categorized by gender. Key insights include:**\n",
    "\n",
    "- **Children**: Higher survival rates for both males and females, with females typically showing better survival chances.\n",
    "- **Adults**: Females have significantly higher survival rates compared to males.\n",
    "- **Seniors**: Very few data points, but males have notably low survival rates compared to females.\n",
    "- **Males**: Survival rates are generally lower for males in all age groups.\n",
    "\n",
    "This visualization highlights the disparity in survival rates based on gender and age, reflecting societal norms and behaviors during the disaster.\n"
   ]
  },
  {
   "cell_type": "markdown",
   "metadata": {},
   "source": [
    "### Basic Statistical Analysis:"
   ]
  },
  {
   "cell_type": "markdown",
   "metadata": {},
   "source": [
    "#### Calculate Mean, Median, and Mode for 'Fare' and 'Age'**"
   ]
  },
  {
   "cell_type": "code",
   "execution_count": 240,
   "metadata": {},
   "outputs": [
    {
     "name": "stdout",
     "output_type": "stream",
     "text": [
      "Fare - Mean: 33.22395627871363, Median: 14.4542, Mode: 8.05\n",
      "Age - Mean: 29.448062787136294, Median: 28.0, Mode: 28.0\n"
     ]
    }
   ],
   "source": [
    "# Calculate mean, median, and mode for 'Fare'\n",
    "fare_mean = df['Fare'].mean()\n",
    "fare_median = df['Fare'].median()\n",
    "# Mode returns a series, so we take the first value\n",
    "fare_mode = df['Fare'].mode()[0]\n",
    "\n",
    "# Calculate mean, median, and mode for 'Age'\n",
    "age_mean = df['Age'].mean()\n",
    "age_median = df['Age'].median()\n",
    "# Mode returns a series, so we take the first value\n",
    "age_mode = df['Age'].mode()[0]\n",
    "\n",
    "# Print the results\n",
    "print(f\"Fare - Mean: {fare_mean}, Median: {fare_median}, Mode: {fare_mode}\")\n",
    "print(f\"Age - Mean: {age_mean}, Median: {age_median}, Mode: {age_mode}\")\n"
   ]
  },
  {
   "cell_type": "markdown",
   "metadata": {},
   "source": [
    "##### Summary of Fare and Age Statistics\n",
    "\n",
    "##### Fare:\n",
    "- **Mean**: 33.22\n",
    "  - The average fare paid by passengers was 33.22.\n",
    "- **Median**: 14.45\n",
    "  - Half of the passengers paid less than or equal to 14.45, and half paid more.\n",
    "- **Mode**: 8.05\n",
    "  - The most common fare paid by passengers was 8.05.\n",
    "\n",
    "##### Age:\n",
    "- **Mean**: 29.45\n",
    "  - The average age of passengers was 29.45 years.\n",
    "- **Median**: 28.0\n",
    "  - Half of the passengers were younger than 28 years old, and half were older.\n",
    "- **Mode**: 28.0\n",
    "  - The most frequently occurring age among passengers was 28 years.\n"
   ]
  },
  {
   "cell_type": "markdown",
   "metadata": {},
   "source": [
    "\n",
    "#### T-test for Survival Rate Based on Gender\n",
    "\n",
    "- t_stat: The t-statistic, which quantifies the difference between the groups\n",
    "- p_value: The p-value, which tells us the probability that the observed difference happened by chance."
   ]
  },
  {
   "cell_type": "code",
   "execution_count": 241,
   "metadata": {},
   "outputs": [
    {
     "name": "stdout",
     "output_type": "stream",
     "text": [
      "T-test Result: t-statistic = -34.17873052515724, p-value = 2.391994912535409e-183\n"
     ]
    }
   ],
   "source": [
    "# Separate the survival data by gender to perform a t-test\n",
    "survived_male = df[df['Sex'] == 'male']['Survived']\n",
    "survived_female = df[df['Sex'] == 'female']['Survived']\n",
    "\n",
    "# Perform a t-test to check if the difference in survival rate between genders\n",
    "t_stat, p_value = stats.ttest_ind(survived_male, survived_female)\n",
    "\n",
    "# Print the t-test results\n",
    "print(f\"T-test Result: t-statistic = {t_stat}, p-value = {p_value}\")\n",
    "\n"
   ]
  },
  {
   "cell_type": "markdown",
   "metadata": {},
   "source": [
    "\n",
    "##### T-Test Results Interpretation\n",
    "\n",
    "- ##### t-statistic:\n",
    "    - The negative value of the t-statistic **(-34.18)** indicates that the survival rate for **females** is significantly higher than that for **males**.\n",
    "    - The large magnitude of the t-statistic (34.18) shows that the difference between the survival rates of males and females is substantial.\n",
    "\n",
    "- ##### p-value:\n",
    "    - The p-value is extremely small (**2.39e-183**), which is effectively zero.\n",
    "    - Since this p-value is far smaller than the typical significance level of **0.05**, it means that the observed difference in survival rates between males and females is **highly statistically significant**.\n",
    "    - This indicates that there is almost no probability that the difference in survival rates happened by random chance.\n"
   ]
  },
  {
   "cell_type": "markdown",
   "metadata": {},
   "source": [
    "#### Statistical Analysis of Survival Rate by Age Group"
   ]
  },
  {
   "cell_type": "code",
   "execution_count": 242,
   "metadata": {},
   "outputs": [
    {
     "name": "stdout",
     "output_type": "stream",
     "text": [
      "Statistical Analysis by Age Group:\n",
      "\n",
      "  AgeGroup  Count  Survival_Rate   Mean_Age  Median_Age  Mode_Age\n",
      "0    Adult   1139      36.172081  31.735733        28.0      28.0\n",
      "1    Child    154      50.649351   9.101753         9.0      17.0\n",
      "2   Senior     13      15.384615  70.038462        70.0      65.0\n"
     ]
    }
   ],
   "source": [
    "# Statistical analysis of age groups\n",
    "age_group_stats = df.groupby('AgeGroup').agg(\n",
    "    Count=('Age', 'size'),\n",
    "    Survival_Rate=('Survived', 'mean'),\n",
    "    Mean_Age=('Age', 'mean'),\n",
    "    Median_Age=('Age', 'median'),\n",
    "    Mode_Age=('Age', lambda x: x.mode()[0])  # Get the mode\n",
    ").reset_index()\n",
    "\n",
    "# Convert survival rate to percentage\n",
    "age_group_stats['Survival_Rate'] *= 100\n",
    "\n",
    "print(\"Statistical Analysis by Age Group:\\n\")\n",
    "print(age_group_stats)"
   ]
  },
  {
   "cell_type": "markdown",
   "metadata": {},
   "source": [
    "\n",
    "##### Interpretation:\n",
    "- **Adults**: The largest group with **1,139** passengers, a survival rate of **36.17%**, and an average age of approximately **31.74 years**.\n",
    "- **Children**: This group has a total of **154** passengers, exhibiting the highest survival rate of **50.65%**, indicating a better chance of survival compared to adults. The average age of children is around **9.10 years**.\n",
    "- **Seniors**: The smallest group, comprising only **13** passengers, has a low survival rate of **15.38%** and an average age of about **70.04 years**, suggesting they had the least chance of survival among the age groups.\n"
   ]
  },
  {
   "cell_type": "markdown",
   "metadata": {},
   "source": [
    "#### Statistical analysis of survival rate by AgeGroup, Gender, and Class"
   ]
  },
  {
   "cell_type": "code",
   "execution_count": 243,
   "metadata": {},
   "outputs": [
    {
     "name": "stdout",
     "output_type": "stream",
     "text": [
      "Statistical Analysis of Survival Rate by Age Group, Gender, and Class:\n",
      "\n",
      "   AgeGroup  Pclass     Sex  Count  Survival_Rate\n",
      "0     Adult       1  female    133      98.496241\n",
      "1     Adult       1    male    165      24.242424\n",
      "2     Adult       2  female     88      93.181818\n",
      "3     Adult       2    male    154       5.194805\n",
      "4     Adult       3  female    170      67.058824\n",
      "5     Adult       3    male    429       8.624709\n",
      "6     Child       1  female      8      87.500000\n",
      "7     Child       1    male      7      57.142857\n",
      "8     Child       2  female     18     100.000000\n",
      "9     Child       2    male     15      60.000000\n",
      "10    Child       3  female     46      65.217391\n",
      "11    Child       3    male     60      16.666667\n",
      "12   Senior       1  female      1     100.000000\n",
      "13   Senior       1    male      7      14.285714\n",
      "14   Senior       2    male      2       0.000000\n",
      "15   Senior       3    male      3       0.000000\n"
     ]
    }
   ],
   "source": [
    "# Statistical analysis of survival rate by AgeGroup, Gender, and Class\n",
    "survival_stats = df.groupby(['AgeGroup', 'Pclass', 'Sex']).agg(\n",
    "    Count=('Survived', 'size'),\n",
    "    Survival_Rate=('Survived', 'mean'),\n",
    ").reset_index()\n",
    "\n",
    "# Convert survival rate to percentage\n",
    "survival_stats['Survival_Rate'] *= 100\n",
    "\n",
    "# Print the statistical analysis\n",
    "print(\"Statistical Analysis of Survival Rate by Age Group, Gender, and Class:\\n\")\n",
    "print(survival_stats)"
   ]
  },
  {
   "cell_type": "markdown",
   "metadata": {},
   "source": [
    "\n",
    "##### Interpretation:\n",
    "- **Adult Females**: Highest survival rates, especially in 1st class (98.50%), indicating favorable conditions for female passengers.\n",
    "- **Adult Males**: Significant variation in survival, with a low rate in 2nd (5.19%) and 3rd class (8.62%).\n",
    "- **Children**: Generally high survival rates, particularly in 2nd class females (100%) and 1st class females (87.50%).\n",
    "- **Seniors**: Limited data with very low survival rates in males, especially in 2nd and 3rd class nearly (0.00%).\n"
   ]
  }
 ],
 "metadata": {
  "kernelspec": {
   "display_name": "env",
   "language": "python",
   "name": "python3"
  },
  "language_info": {
   "codemirror_mode": {
    "name": "ipython",
    "version": 3
   },
   "file_extension": ".py",
   "mimetype": "text/x-python",
   "name": "python",
   "nbconvert_exporter": "python",
   "pygments_lexer": "ipython3",
   "version": "3.10.10"
  }
 },
 "nbformat": 4,
 "nbformat_minor": 2
}
